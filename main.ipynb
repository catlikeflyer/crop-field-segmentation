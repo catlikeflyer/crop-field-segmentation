{
 "cells": [
  {
   "cell_type": "markdown",
   "metadata": {},
   "source": [
    "# DeepGlobe Image Segmentation\n",
    "\n",
    "[Reference](https://www.kaggle.com/code/nisaneretva/multiclass-segmentation-deepglobe-with-unet)"
   ]
  },
  {
   "cell_type": "markdown",
   "metadata": {},
   "source": [
    "### Data\n",
    "- The training data for Land Cover Challenge contains 803 satellite imagery in RGB, size 2448x2448.\n",
    "- The imagery has 50cm pixel resolution, collected by DigitalGlobe's satellite.\n",
    "- The dataset contains 171 validation and 172 test images (but no masks).\n",
    "### Label\n",
    "- Each satellite image is paired with a mask image for land cover annotation. The mask is a RGB image with 7 classes of labels, using color-coding (R, G, B) as follows.\n",
    "    - Urban land: 0,255,255 - Man-made, built up areas with human artifacts (can ignore roads for now which is hard to label)\n",
    "    - Agriculture land: 255,255,0 - Farms, any planned (i.e. regular) plantation, cropland, orchards, vineyards, nurseries, and ornamental horticultural areas; confined feeding operations.\n",
    "    - Rangeland: 255,0,255 - Any non-forest, non-farm, green land, grass\n",
    "    - Forest land: 0,255,0 - Any land with x% tree crown density plus clearcuts.\n",
    "    - Water: 0,0,255 - Rivers, oceans, lakes, wetland, ponds.\n",
    "    - Barren land: 255,255,255 - Mountain, land, rock, dessert, beach, no vegetation\n",
    "    - Unknown: 0,0,0 - Clouds and others\n",
    "\n",
    "File names for satellite images and the corresponding mask image are id _sat.jpg and id _mask.png. id is a randomized integer.\n",
    "\n",
    "### Please note:\n",
    "- The values of the mask image may not be pure 0 and 255. When converting to labels, please binarize them at threshold 128."
   ]
  },
  {
   "cell_type": "code",
   "execution_count": 13,
   "metadata": {},
   "outputs": [],
   "source": [
    "import numpy as np # linear algebra\n",
    "import pandas as pd # \n",
    "import os\n",
    "import matplotlib.pyplot as plt\n",
    "import cv2\n",
    "from tqdm import tqdm\n",
    "\n",
    "import torch\n",
    "from torch.utils.data import Dataset\n",
    "from torch.utils.data import DataLoader\n",
    "from torchvision import transforms\n",
    "import torch.nn as nn\n",
    "from torch.nn import functional as F\n",
    "from torch.autograd import Variable"
   ]
  },
  {
   "cell_type": "code",
   "execution_count": 14,
   "metadata": {},
   "outputs": [],
   "source": [
    "TRAIN_DIR = \"./deepglobe-land-cover-classification-dataset/train\"\n",
    "VALID_DIR = \"./deepglobe-land-cover-classification-dataset/valid\"\n",
    "TEST_DIR = \"./deepglobe-land-cover-classification-dataset/test\"\n",
    "COLOR_CODES = \"./deepglobe-land-cover-classification-dataset/class_dict.csv\"\n",
    "\n",
    "transform = transforms.Compose([\n",
    "    transforms.ToTensor(),\n",
    "    transforms.Resize((256, 256)),\n",
    "])\n",
    "\n",
    "# Data Augmentation\n",
    "# albumentation"
   ]
  },
  {
   "cell_type": "code",
   "execution_count": 15,
   "metadata": {},
   "outputs": [],
   "source": [
    "# Data cleaning\n",
    "# List all files in the directory\n",
    "def clean_files(directory):\n",
    "    files = os.listdir(directory)\n",
    "\n",
    "    # Iterate over the files\n",
    "    for file in files:\n",
    "        # Check if the file starts with \"._\"\n",
    "        if file.startswith(\"._\"):\n",
    "            # Join the directory path and file name\n",
    "            file_path = os.path.join(directory, file)\n",
    "            # Delete the file\n",
    "            os.remove(file_path)\n",
    "            print(f\"Deleted: {file_path}\")\n",
    "\n",
    "clean_files(TRAIN_DIR)\n",
    "clean_files(VALID_DIR)\n",
    "clean_files(TEST_DIR)"
   ]
  },
  {
   "cell_type": "code",
   "execution_count": 16,
   "metadata": {},
   "outputs": [
    {
     "data": {
      "text/plain": [
       "{0: [0, 255, 255],\n",
       " 1: [255, 255, 0],\n",
       " 2: [255, 0, 255],\n",
       " 3: [0, 255, 0],\n",
       " 4: [0, 0, 255],\n",
       " 5: [255, 255, 255],\n",
       " 6: [0, 0, 0]}"
      ]
     },
     "execution_count": 16,
     "metadata": {},
     "output_type": "execute_result"
    }
   ],
   "source": [
    "df = pd.read_csv(COLOR_CODES)\n",
    "label_map = {}\n",
    "\n",
    "for index, row in df.iterrows():\n",
    "    label_map[index] = [row[\"r\"],row[\"g\"],row[\"b\"]]\n",
    "    \n",
    "label_map"
   ]
  },
  {
   "cell_type": "code",
   "execution_count": 17,
   "metadata": {},
   "outputs": [],
   "source": [
    "class Segmentation_Dataset(Dataset):\n",
    "    def __init__(self, image_dir, label_map, transform):\n",
    "        self.image_dir = image_dir\n",
    "        self.transform = transform\n",
    "        self.label_map = label_map\n",
    "        self.images_name = sorted([filename for filename in os.listdir(self.image_dir) if filename.endswith('_sat.jpg') and not filename.startswith(\"._\")])\n",
    "        self.targets_name = sorted([filename for filename in os.listdir(self.image_dir) if filename.endswith('_mask.png') and not filename.startswith(\"._\")])\n",
    "        \n",
    "    def __len__(self):\n",
    "        return len(self.images_name)\n",
    "\n",
    "    def __getitem__(self, idx):\n",
    "        image_path = os.path.join(self.image_dir, self.images_name[idx])\n",
    "        mask_path = os.path.join(self.image_dir, self.targets_name[idx])\n",
    "        \n",
    "        image = cv2.imread(image_path)\n",
    "        image = cv2.cvtColor(image, cv2.COLOR_BGR2RGB) # convert RGB\n",
    "        \n",
    "        mask = cv2.imread(mask_path)\n",
    "        mask = cv2.cvtColor(mask, cv2.COLOR_BGR2RGB)\n",
    "        mask = self.colormap_to_labelmap(mask)\n",
    "        if self.transform:\n",
    "            image = self.transform(image)\n",
    "            mask = self.transform(mask)\n",
    "            \n",
    "        return image, mask\n",
    "    \n",
    "    def colormap_to_labelmap(self, mask):\n",
    "        label_image = np.zeros_like(mask[:,:,0], dtype=np.uint8)\n",
    "\n",
    "        for label, color in self.label_map.items():\n",
    "            color_array = np.array(color)\n",
    "            mask_condition = np.all(mask == color_array, axis=-1)\n",
    "            label_image[mask_condition] = label\n",
    "\n",
    "        return label_image.astype(np.float32)"
   ]
  },
  {
   "cell_type": "code",
   "execution_count": 18,
   "metadata": {},
   "outputs": [
    {
     "data": {
      "text/plain": [
       "\"img, mask, bla = Segmentation_Dataset(TRAIN_DIR, label_map).__getitem__(0)\\nprint(bla)\\nsample = [img, mask]\\n\\nfor i in range(len(sample)):\\n    plt.subplot(1, 2, i+1)\\n    plt.imshow(sample[i])\\n    plt.axis('off')\\n    \\nplt.show()\""
      ]
     },
     "execution_count": 18,
     "metadata": {},
     "output_type": "execute_result"
    }
   ],
   "source": [
    "\"\"\"img, mask, bla = Segmentation_Dataset(TRAIN_DIR, label_map).__getitem__(0)\n",
    "print(bla)\n",
    "sample = [img, mask]\n",
    "\n",
    "for i in range(len(sample)):\n",
    "    plt.subplot(1, 2, i+1)\n",
    "    plt.imshow(sample[i])\n",
    "    plt.axis('off')\n",
    "    \n",
    "plt.show()\"\"\""
   ]
  },
  {
   "cell_type": "code",
   "execution_count": 19,
   "metadata": {},
   "outputs": [],
   "source": [
    "class ResidualBlock(nn.Module):\n",
    "    def __init__(self, in_c=3, out_c=1):\n",
    "        super(ResidualBlock, self).__init__()\n",
    "        self.conv = nn.Sequential(\n",
    "            nn.Conv2d(in_c, out_c, kernel_size=3, stride=1, padding=1),\n",
    "            nn.BatchNorm2d(out_c),\n",
    "            nn.LeakyReLU(negative_slope=0.1, inplace=True),\n",
    "            nn.Conv2d(out_c, out_c, kernel_size=3, stride=1, padding=1),\n",
    "            nn.BatchNorm2d(out_c),\n",
    "            nn.LeakyReLU(negative_slope=0.1, inplace=True)\n",
    "        )\n",
    "        self.skip = nn.Sequential(\n",
    "            nn.Conv2d(in_c, out_c, kernel_size=1, stride=1, padding=0),\n",
    "            nn.BatchNorm2d(out_c),\n",
    "            nn.LeakyReLU(negative_slope=0.1, inplace=True)\n",
    "        )\n",
    "\n",
    "    def forward(self, x):\n",
    "        conv = self.conv(x)\n",
    "        skip = self.skip(x)\n",
    "\n",
    "        plus = conv + skip\n",
    "        return plus\n",
    "\n",
    "class UNet(nn.Module):\n",
    "\n",
    "    def __init__(self, n_class):\n",
    "        super().__init__()\n",
    "                \n",
    "        self.dconv_down1 = ResidualBlock(3, 64)\n",
    "        self.dconv_down2 = ResidualBlock(64, 128)\n",
    "        self.dconv_down3 = ResidualBlock(128, 256)\n",
    "        self.dconv_down4 = ResidualBlock(256,512)\n",
    "        self.bottleneck = ResidualBlock(512, 1024)        \n",
    "\n",
    "        self.maxpool = nn.MaxPool2d(2)\n",
    "\n",
    "        self.dconv1 =  nn.ConvTranspose2d(1024, 512, kernel_size=2, stride=2)        \n",
    "        self.dconv2 =  nn.ConvTranspose2d(512, 256, kernel_size=2, stride=2)\n",
    "        self.dconv3 =  nn.ConvTranspose2d(256, 128, kernel_size=2, stride=2)\n",
    "        self.dconv4 =  nn.ConvTranspose2d(128, 64, kernel_size=2, stride=2)\n",
    "\n",
    "        self.dconv_up4 = ResidualBlock(1024, 512) \n",
    "        self.dconv_up3 = ResidualBlock(512, 256)\n",
    "        self.dconv_up2 = ResidualBlock(256, 128)\n",
    "        self.dconv_up1 = ResidualBlock(128, 64)\n",
    "        self.conv_last = nn.Conv2d(64, n_class, 1)\n",
    "        \n",
    "        \n",
    "    def forward(self, x):\n",
    "        # encoder\n",
    "        conv1 = self.dconv_down1(x)\n",
    "        x1 = self.maxpool(conv1) \n",
    "\n",
    "        conv2 = self.dconv_down2(x1)\n",
    "        x2 = self.maxpool(conv2) \n",
    "        \n",
    "        conv3 = self.dconv_down3(x2)\n",
    "        x3 = self.maxpool(conv3) \n",
    "\n",
    "        conv4 = self.dconv_down4(x3)\n",
    "        x4 = self.maxpool(conv4)         \n",
    "\n",
    "        x5 = self.bottleneck(x4) \n",
    "\n",
    "        x = self.dconv1(x5)        \n",
    "        x = torch.cat([x, conv4], dim=1)\n",
    "        x = self.dconv_up4(x)\n",
    "\n",
    "        x = self.dconv2(x)        \n",
    "        x = torch.cat([x, conv3], dim=1)       \n",
    "        x = self.dconv_up3(x)\n",
    "\n",
    "        x = self.dconv3(x)        \n",
    "        x = torch.cat([x, conv2], dim=1)   \n",
    "        x = self.dconv_up2(x)\n",
    "\n",
    "        x = self.dconv4(x)        \n",
    "        x = torch.cat([x, conv1], dim=1)   \n",
    "        x = self.dconv_up1(x)\n",
    "        \n",
    "        seg = self.conv_last(x)\n",
    "\n",
    "        return seg"
   ]
  },
  {
   "cell_type": "code",
   "execution_count": 20,
   "metadata": {},
   "outputs": [],
   "source": [
    "class FocalLoss(nn.Module):\n",
    "    def __init__(self, gamma=0, alpha=None, reduction='mean'):\n",
    "        super(FocalLoss, self).__init__()\n",
    "        self.reduction = reduction\n",
    "        self.gamma = gamma\n",
    "        self.alpha = alpha\n",
    "        if isinstance(alpha, (float, int, torch.LongTensor)): self.alpha = torch.Tensor([alpha, 1 - alpha])\n",
    "        if isinstance(alpha, list): self.alpha = torch.Tensor(alpha)\n",
    "\n",
    "    def forward(self, input, target):\n",
    "        if input.dim() > 2:\n",
    "            input = input.view(input.size(0), input.size(1), -1)  # N,C,H,W => N,C,H*W\n",
    "            input = input.transpose(1, 2)  # N,C,H*W => N,H*W,C\n",
    "            input = input.contiguous().view(-1, input.size(2))  # N,H*W,C => N*H*W,C\n",
    "        target = target.view(-1, 1)\n",
    "\n",
    "        logpt = F.log_softmax(input)\n",
    "        logpt = logpt.gather(1, target)\n",
    "        logpt = logpt.view(-1)\n",
    "        pt = Variable(logpt.data.exp())\n",
    "\n",
    "        if self.alpha is not None:\n",
    "            if self.alpha.type() != input.data.type():\n",
    "                self.alpha = self.alpha.type_as(input.data)\n",
    "            at = self.alpha.gather(0, target.data.view(-1))\n",
    "            logpt = logpt * Variable(at)\n",
    "\n",
    "        loss = -1 * (1 - pt) ** self.gamma * logpt\n",
    "        if self.reduction == \"none\":\n",
    "            return loss\n",
    "        elif self.reduction == \"mean\":\n",
    "            return loss.mean()\n",
    "        elif self.reduction == \"sum\":\n",
    "            return loss.sum()"
   ]
  },
  {
   "cell_type": "code",
   "execution_count": 21,
   "metadata": {},
   "outputs": [],
   "source": [
    "class Train():\n",
    "    def __init__(self, model, dataloader, optimizer, num_epoch, device, loss):\n",
    "        self.model = model\n",
    "        self.dataloader = dataloader\n",
    "        self.optimizer = optimizer\n",
    "        self.num_epoch = num_epoch\n",
    "        self.device = device\n",
    "        self.loss = loss\n",
    "        self.loss_epochs = []\n",
    "        self.iou_list = []\n",
    "        self.num_epochs = num_epoch\n",
    "\n",
    "    def calculate_iou(self, predictions, labels):\n",
    "        # Assuming predictions and labels are tensors of shape (batch_size, num_classes, height, width)\n",
    "        predictions = torch.argmax(predictions, dim=1)\n",
    "        intersection = torch.sum(predictions & labels).float()\n",
    "        union = torch.sum(predictions | labels).float()\n",
    "        iou = (intersection + 1e-6) / (union + 1e-6)  # Adding epsilon to avoid division by zero\n",
    "        return iou.item()\n",
    "\n",
    "    def train(self):\n",
    "        self.model.to(self.device)\n",
    "        self.model.train()\n",
    "\n",
    "        for epoch in range(self.num_epoch):\n",
    "            total_loss = 0.0\n",
    "            total_samples = 0\n",
    "\n",
    "            with tqdm(self.dataloader, unit=\"batch\") as dl:\n",
    "                for inputs, labels in dl:\n",
    "                    inputs, labels = inputs.to(self.device), labels.to(self.device)\n",
    "                    predictions = self.model(inputs)\n",
    "                    labels = labels.squeeze().long()\n",
    "                    loss = self.loss(predictions, labels)\n",
    "                    self.optimizer.zero_grad()\n",
    "                    loss.backward()\n",
    "                    self.optimizer.step()\n",
    "                    total_loss += loss.item() * inputs.size(0)\n",
    "                    total_samples += inputs.size(0)\n",
    "                    dl.set_postfix({\"Epoch\": epoch + 1, \"Loss\": total_loss / total_samples})\n",
    "\n",
    "            epoch_loss = total_loss / total_samples\n",
    "            self.loss_epochs.append(epoch_loss)\n",
    "            self.iou_list.append(self.calculate_iou(predictions, labels))\n",
    "            \n",
    "            print(f\"Epoch [{epoch + 1}/{self.num_epochs}], Loss: {epoch_loss:.4f}\")\n",
    "\n"
   ]
  },
  {
   "cell_type": "markdown",
   "metadata": {},
   "source": [
    "## Play here with the hyperparameters"
   ]
  },
  {
   "cell_type": "code",
   "execution_count": 22,
   "metadata": {},
   "outputs": [],
   "source": [
    "num_classes = len(label_map.keys())\n",
    "\n",
    "# Play with these hyperparameters for better results\n",
    "lr = 0.001\n",
    "batch_size = 4\n",
    "num_epochs = 200\n",
    "\n",
    "model = UNet(n_class=num_classes)\n",
    "train_dataset = Segmentation_Dataset(TRAIN_DIR, label_map, transform)\n",
    "train_dataloader = DataLoader(train_dataset, batch_size=batch_size, shuffle=True)\n",
    "optimizer = torch.optim.AdamW(model.parameters(), lr)\n",
    "loss = FocalLoss()"
   ]
  },
  {
   "cell_type": "code",
   "execution_count": 23,
   "metadata": {},
   "outputs": [],
   "source": [
    "# Set device to cuda, mps or cpu\n",
    "device = torch.device('cuda' if torch.cuda.is_available() else 'cpu')\n",
    "if not torch.backends.mps.is_available():\n",
    "    if not torch.backends.mps.is_built():\n",
    "        print(\"MPS not available because the current PyTorch install was not \"\n",
    "              \"built with MPS enabled.\")\n",
    "    else:\n",
    "        print(\"MPS not available because the current MacOS version is not 12.3+ \"\n",
    "              \"and/or you do not have an MPS-enabled device on this machine.\")\n",
    "\n",
    "else: \n",
    "    device = \"mps\"\n"
   ]
  },
  {
   "cell_type": "code",
   "execution_count": 24,
   "metadata": {},
   "outputs": [
    {
     "name": "stderr",
     "output_type": "stream",
     "text": [
      "  0%|          | 0/201 [00:00<?, ?batch/s]/Library/Frameworks/Python.framework/Versions/3.10/lib/python3.10/site-packages/torchvision/transforms/functional.py:1603: UserWarning: The default value of the antialias parameter of all the resizing transforms (Resize(), RandomResizedCrop(), etc.) will change from None to True in v0.17, in order to be consistent across the PIL and Tensor backends. To suppress this warning, directly pass antialias=True (recommended, future default), antialias=None (current default, which means False for Tensors and True for PIL), or antialias=False (only works on Tensors - PIL will still use antialiasing). This also applies if you are using the inference transforms from the models weights: update the call to weights.transforms(antialias=True).\n",
      "  warnings.warn(\n",
      "/var/folders/tx/n32g7pgx5dn47wpc89xx8v0w0000gn/T/ipykernel_89450/93752488.py:17: UserWarning: Implicit dimension choice for log_softmax has been deprecated. Change the call to include dim=X as an argument.\n",
      "  logpt = F.log_softmax(input)\n",
      "100%|██████████| 201/201 [32:46<00:00,  9.79s/batch, Epoch=1, Loss=2.21] \n"
     ]
    },
    {
     "name": "stdout",
     "output_type": "stream",
     "text": [
      "Epoch [1/200], Loss: 2.2114\n"
     ]
    },
    {
     "name": "stderr",
     "output_type": "stream",
     "text": [
      "  5%|▍         | 10/201 [01:53<36:16, 11.40s/batch, Epoch=2, Loss=2.25]\n"
     ]
    },
    {
     "ename": "KeyboardInterrupt",
     "evalue": "",
     "output_type": "error",
     "traceback": [
      "\u001b[0;31m---------------------------------------------------------------------------\u001b[0m",
      "\u001b[0;31mKeyboardInterrupt\u001b[0m                         Traceback (most recent call last)",
      "Input \u001b[0;32mIn [24]\u001b[0m, in \u001b[0;36m<cell line: 2>\u001b[0;34m()\u001b[0m\n\u001b[1;32m      1\u001b[0m trainer \u001b[38;5;241m=\u001b[39m Train(model, train_dataloader, optimizer, num_epochs, device, loss)\n\u001b[0;32m----> 2\u001b[0m \u001b[43mtrainer\u001b[49m\u001b[38;5;241;43m.\u001b[39;49m\u001b[43mtrain\u001b[49m\u001b[43m(\u001b[49m\u001b[43m)\u001b[49m\n",
      "Input \u001b[0;32mIn [21]\u001b[0m, in \u001b[0;36mTrain.train\u001b[0;34m(self)\u001b[0m\n\u001b[1;32m     29\u001b[0m \u001b[38;5;28;01mwith\u001b[39;00m tqdm(\u001b[38;5;28mself\u001b[39m\u001b[38;5;241m.\u001b[39mdataloader, unit\u001b[38;5;241m=\u001b[39m\u001b[38;5;124m\"\u001b[39m\u001b[38;5;124mbatch\u001b[39m\u001b[38;5;124m\"\u001b[39m) \u001b[38;5;28;01mas\u001b[39;00m dl:\n\u001b[1;32m     30\u001b[0m     \u001b[38;5;28;01mfor\u001b[39;00m inputs, labels \u001b[38;5;129;01min\u001b[39;00m dl:\n\u001b[0;32m---> 31\u001b[0m         inputs, labels \u001b[38;5;241m=\u001b[39m \u001b[43minputs\u001b[49m\u001b[38;5;241;43m.\u001b[39;49m\u001b[43mto\u001b[49m\u001b[43m(\u001b[49m\u001b[38;5;28;43mself\u001b[39;49m\u001b[38;5;241;43m.\u001b[39;49m\u001b[43mdevice\u001b[49m\u001b[43m)\u001b[49m, labels\u001b[38;5;241m.\u001b[39mto(\u001b[38;5;28mself\u001b[39m\u001b[38;5;241m.\u001b[39mdevice)\n\u001b[1;32m     32\u001b[0m         predictions \u001b[38;5;241m=\u001b[39m \u001b[38;5;28mself\u001b[39m\u001b[38;5;241m.\u001b[39mmodel(inputs)\n\u001b[1;32m     33\u001b[0m         labels \u001b[38;5;241m=\u001b[39m labels\u001b[38;5;241m.\u001b[39msqueeze()\u001b[38;5;241m.\u001b[39mlong()\n",
      "\u001b[0;31mKeyboardInterrupt\u001b[0m: "
     ]
    }
   ],
   "source": [
    "trainer = Train(model, train_dataloader, optimizer, num_epochs, device, loss)\n",
    "trainer.train()\n",
    "# Ignore AttributeError: 'Train' object has no attribute 'num_epochs' at the end\n"
   ]
  },
  {
   "cell_type": "code",
   "execution_count": null,
   "metadata": {},
   "outputs": [
    {
     "name": "stdout",
     "output_type": "stream",
     "text": [
      "[1.9622613317791284]\n"
     ]
    },
    {
     "data": {
      "image/png": "[encoded data removed]",
      "text/plain": [
       "<Figure size 432x288 with 1 Axes>"
      ]
     },
     "metadata": {
      "needs_background": "light"
     },
     "output_type": "display_data"
    },
    {
     "data": {
      "image/png": "[encoded data removed]",
      "text/plain": [
       "<Figure size 432x288 with 1 Axes>"
      ]
     },
     "metadata": {
      "needs_background": "light"
     },
     "output_type": "display_data"
    }
   ],
   "source": [
    "\n",
    "losses = trainer.loss_epochs\n",
    "ious = trainer.iou_list\n",
    "\n",
    "print(losses)\n",
    "\n",
    "# Plotting the loss values\n",
    "plt.plot(losses)\n",
    "plt.xlabel('Epochs')\n",
    "plt.ylabel('Loss')\n",
    "plt.title('Training Loss')\n",
    "plt.show()\n",
    "# Plotting the IoU values\n",
    "plt.plot(ious)\n",
    "plt.xlabel('Epochs')\n",
    "plt.ylabel('IoU')\n",
    "plt.title('Intersection over Union (IoU)')\n",
    "plt.show()"
   ]
  },
  {
   "cell_type": "code",
   "execution_count": null,
   "metadata": {},
   "outputs": [
    {
     "data": {
      "text/plain": [
       "UNet(\n",
       "  (dconv_down1): ResidualBlock(\n",
       "    (conv): Sequential(\n",
       "      (0): Conv2d(3, 64, kernel_size=(3, 3), stride=(1, 1), padding=(1, 1))\n",
       "      (1): BatchNorm2d(64, eps=1e-05, momentum=0.1, affine=True, track_running_stats=True)\n",
       "      (2): LeakyReLU(negative_slope=0.1, inplace=True)\n",
       "      (3): Conv2d(64, 64, kernel_size=(3, 3), stride=(1, 1), padding=(1, 1))\n",
       "      (4): BatchNorm2d(64, eps=1e-05, momentum=0.1, affine=True, track_running_stats=True)\n",
       "      (5): LeakyReLU(negative_slope=0.1, inplace=True)\n",
       "    )\n",
       "    (skip): Sequential(\n",
       "      (0): Conv2d(3, 64, kernel_size=(1, 1), stride=(1, 1))\n",
       "      (1): BatchNorm2d(64, eps=1e-05, momentum=0.1, affine=True, track_running_stats=True)\n",
       "      (2): LeakyReLU(negative_slope=0.1, inplace=True)\n",
       "    )\n",
       "  )\n",
       "  (dconv_down2): ResidualBlock(\n",
       "    (conv): Sequential(\n",
       "      (0): Conv2d(64, 128, kernel_size=(3, 3), stride=(1, 1), padding=(1, 1))\n",
       "      (1): BatchNorm2d(128, eps=1e-05, momentum=0.1, affine=True, track_running_stats=True)\n",
       "      (2): LeakyReLU(negative_slope=0.1, inplace=True)\n",
       "      (3): Conv2d(128, 128, kernel_size=(3, 3), stride=(1, 1), padding=(1, 1))\n",
       "      (4): BatchNorm2d(128, eps=1e-05, momentum=0.1, affine=True, track_running_stats=True)\n",
       "      (5): LeakyReLU(negative_slope=0.1, inplace=True)\n",
       "    )\n",
       "    (skip): Sequential(\n",
       "      (0): Conv2d(64, 128, kernel_size=(1, 1), stride=(1, 1))\n",
       "      (1): BatchNorm2d(128, eps=1e-05, momentum=0.1, affine=True, track_running_stats=True)\n",
       "      (2): LeakyReLU(negative_slope=0.1, inplace=True)\n",
       "    )\n",
       "  )\n",
       "  (dconv_down3): ResidualBlock(\n",
       "    (conv): Sequential(\n",
       "      (0): Conv2d(128, 256, kernel_size=(3, 3), stride=(1, 1), padding=(1, 1))\n",
       "      (1): BatchNorm2d(256, eps=1e-05, momentum=0.1, affine=True, track_running_stats=True)\n",
       "      (2): LeakyReLU(negative_slope=0.1, inplace=True)\n",
       "      (3): Conv2d(256, 256, kernel_size=(3, 3), stride=(1, 1), padding=(1, 1))\n",
       "      (4): BatchNorm2d(256, eps=1e-05, momentum=0.1, affine=True, track_running_stats=True)\n",
       "      (5): LeakyReLU(negative_slope=0.1, inplace=True)\n",
       "    )\n",
       "    (skip): Sequential(\n",
       "      (0): Conv2d(128, 256, kernel_size=(1, 1), stride=(1, 1))\n",
       "      (1): BatchNorm2d(256, eps=1e-05, momentum=0.1, affine=True, track_running_stats=True)\n",
       "      (2): LeakyReLU(negative_slope=0.1, inplace=True)\n",
       "    )\n",
       "  )\n",
       "  (dconv_down4): ResidualBlock(\n",
       "    (conv): Sequential(\n",
       "      (0): Conv2d(256, 512, kernel_size=(3, 3), stride=(1, 1), padding=(1, 1))\n",
       "      (1): BatchNorm2d(512, eps=1e-05, momentum=0.1, affine=True, track_running_stats=True)\n",
       "      (2): LeakyReLU(negative_slope=0.1, inplace=True)\n",
       "      (3): Conv2d(512, 512, kernel_size=(3, 3), stride=(1, 1), padding=(1, 1))\n",
       "      (4): BatchNorm2d(512, eps=1e-05, momentum=0.1, affine=True, track_running_stats=True)\n",
       "      (5): LeakyReLU(negative_slope=0.1, inplace=True)\n",
       "    )\n",
       "    (skip): Sequential(\n",
       "      (0): Conv2d(256, 512, kernel_size=(1, 1), stride=(1, 1))\n",
       "      (1): BatchNorm2d(512, eps=1e-05, momentum=0.1, affine=True, track_running_stats=True)\n",
       "      (2): LeakyReLU(negative_slope=0.1, inplace=True)\n",
       "    )\n",
       "  )\n",
       "  (bottleneck): ResidualBlock(\n",
       "    (conv): Sequential(\n",
       "      (0): Conv2d(512, 1024, kernel_size=(3, 3), stride=(1, 1), padding=(1, 1))\n",
       "      (1): BatchNorm2d(1024, eps=1e-05, momentum=0.1, affine=True, track_running_stats=True)\n",
       "      (2): LeakyReLU(negative_slope=0.1, inplace=True)\n",
       "      (3): Conv2d(1024, 1024, kernel_size=(3, 3), stride=(1, 1), padding=(1, 1))\n",
       "      (4): BatchNorm2d(1024, eps=1e-05, momentum=0.1, affine=True, track_running_stats=True)\n",
       "      (5): LeakyReLU(negative_slope=0.1, inplace=True)\n",
       "    )\n",
       "    (skip): Sequential(\n",
       "      (0): Conv2d(512, 1024, kernel_size=(1, 1), stride=(1, 1))\n",
       "      (1): BatchNorm2d(1024, eps=1e-05, momentum=0.1, affine=True, track_running_stats=True)\n",
       "      (2): LeakyReLU(negative_slope=0.1, inplace=True)\n",
       "    )\n",
       "  )\n",
       "  (maxpool): MaxPool2d(kernel_size=2, stride=2, padding=0, dilation=1, ceil_mode=False)\n",
       "  (dconv1): ConvTranspose2d(1024, 512, kernel_size=(2, 2), stride=(2, 2))\n",
       "  (dconv2): ConvTranspose2d(512, 256, kernel_size=(2, 2), stride=(2, 2))\n",
       "  (dconv3): ConvTranspose2d(256, 128, kernel_size=(2, 2), stride=(2, 2))\n",
       "  (dconv4): ConvTranspose2d(128, 64, kernel_size=(2, 2), stride=(2, 2))\n",
       "  (dconv_up4): ResidualBlock(\n",
       "    (conv): Sequential(\n",
       "      (0): Conv2d(1024, 512, kernel_size=(3, 3), stride=(1, 1), padding=(1, 1))\n",
       "      (1): BatchNorm2d(512, eps=1e-05, momentum=0.1, affine=True, track_running_stats=True)\n",
       "      (2): LeakyReLU(negative_slope=0.1, inplace=True)\n",
       "      (3): Conv2d(512, 512, kernel_size=(3, 3), stride=(1, 1), padding=(1, 1))\n",
       "      (4): BatchNorm2d(512, eps=1e-05, momentum=0.1, affine=True, track_running_stats=True)\n",
       "      (5): LeakyReLU(negative_slope=0.1, inplace=True)\n",
       "    )\n",
       "    (skip): Sequential(\n",
       "      (0): Conv2d(1024, 512, kernel_size=(1, 1), stride=(1, 1))\n",
       "      (1): BatchNorm2d(512, eps=1e-05, momentum=0.1, affine=True, track_running_stats=True)\n",
       "      (2): LeakyReLU(negative_slope=0.1, inplace=True)\n",
       "    )\n",
       "  )\n",
       "  (dconv_up3): ResidualBlock(\n",
       "    (conv): Sequential(\n",
       "      (0): Conv2d(512, 256, kernel_size=(3, 3), stride=(1, 1), padding=(1, 1))\n",
       "      (1): BatchNorm2d(256, eps=1e-05, momentum=0.1, affine=True, track_running_stats=True)\n",
       "      (2): LeakyReLU(negative_slope=0.1, inplace=True)\n",
       "      (3): Conv2d(256, 256, kernel_size=(3, 3), stride=(1, 1), padding=(1, 1))\n",
       "      (4): BatchNorm2d(256, eps=1e-05, momentum=0.1, affine=True, track_running_stats=True)\n",
       "      (5): LeakyReLU(negative_slope=0.1, inplace=True)\n",
       "    )\n",
       "    (skip): Sequential(\n",
       "      (0): Conv2d(512, 256, kernel_size=(1, 1), stride=(1, 1))\n",
       "      (1): BatchNorm2d(256, eps=1e-05, momentum=0.1, affine=True, track_running_stats=True)\n",
       "      (2): LeakyReLU(negative_slope=0.1, inplace=True)\n",
       "    )\n",
       "  )\n",
       "  (dconv_up2): ResidualBlock(\n",
       "    (conv): Sequential(\n",
       "      (0): Conv2d(256, 128, kernel_size=(3, 3), stride=(1, 1), padding=(1, 1))\n",
       "      (1): BatchNorm2d(128, eps=1e-05, momentum=0.1, affine=True, track_running_stats=True)\n",
       "      (2): LeakyReLU(negative_slope=0.1, inplace=True)\n",
       "      (3): Conv2d(128, 128, kernel_size=(3, 3), stride=(1, 1), padding=(1, 1))\n",
       "      (4): BatchNorm2d(128, eps=1e-05, momentum=0.1, affine=True, track_running_stats=True)\n",
       "      (5): LeakyReLU(negative_slope=0.1, inplace=True)\n",
       "    )\n",
       "    (skip): Sequential(\n",
       "      (0): Conv2d(256, 128, kernel_size=(1, 1), stride=(1, 1))\n",
       "      (1): BatchNorm2d(128, eps=1e-05, momentum=0.1, affine=True, track_running_stats=True)\n",
       "      (2): LeakyReLU(negative_slope=0.1, inplace=True)\n",
       "    )\n",
       "  )\n",
       "  (dconv_up1): ResidualBlock(\n",
       "    (conv): Sequential(\n",
       "      (0): Conv2d(128, 64, kernel_size=(3, 3), stride=(1, 1), padding=(1, 1))\n",
       "      (1): BatchNorm2d(64, eps=1e-05, momentum=0.1, affine=True, track_running_stats=True)\n",
       "      (2): LeakyReLU(negative_slope=0.1, inplace=True)\n",
       "      (3): Conv2d(64, 64, kernel_size=(3, 3), stride=(1, 1), padding=(1, 1))\n",
       "      (4): BatchNorm2d(64, eps=1e-05, momentum=0.1, affine=True, track_running_stats=True)\n",
       "      (5): LeakyReLU(negative_slope=0.1, inplace=True)\n",
       "    )\n",
       "    (skip): Sequential(\n",
       "      (0): Conv2d(128, 64, kernel_size=(1, 1), stride=(1, 1))\n",
       "      (1): BatchNorm2d(64, eps=1e-05, momentum=0.1, affine=True, track_running_stats=True)\n",
       "      (2): LeakyReLU(negative_slope=0.1, inplace=True)\n",
       "    )\n",
       "  )\n",
       "  (conv_last): Conv2d(64, 7, kernel_size=(1, 1), stride=(1, 1))\n",
       ")"
      ]
     },
     "execution_count": 29,
     "metadata": {},
     "output_type": "execute_result"
    }
   ],
   "source": [
    "torch.save(model.state_dict(), 'full_model.pth')\n",
    "model.load_state_dict(torch.load('full_model.pth'))\n",
    "model.to(device)\n",
    "model.eval()"
   ]
  },
  {
   "cell_type": "code",
   "execution_count": null,
   "metadata": {},
   "outputs": [
    {
     "name": "stderr",
     "output_type": "stream",
     "text": [
      "/Library/Frameworks/Python.framework/Versions/3.10/lib/python3.10/site-packages/torchvision/transforms/functional.py:1603: UserWarning: The default value of the antialias parameter of all the resizing transforms (Resize(), RandomResizedCrop(), etc.) will change from None to True in v0.17, in order to be consistent across the PIL and Tensor backends. To suppress this warning, directly pass antialias=True (recommended, future default), antialias=None (current default, which means False for Tensors and True for PIL), or antialias=False (only works on Tensors - PIL will still use antialiasing). This also applies if you are using the inference transforms from the models weights: update the call to weights.transforms(antialias=True).\n",
      "  warnings.warn(\n"
     ]
    },
    {
     "name": "stdout",
     "output_type": "stream",
     "text": [
      "tensor([2], device='mps:0')\n"
     ]
    },
    {
     "data": {
      "image/png": "[encoded data removed]",
      "text/plain": [
       "<Figure size 432x288 with 2 Axes>"
      ]
     },
     "metadata": {
      "needs_background": "light"
     },
     "output_type": "display_data"
    }
   ],
   "source": [
    "img = cv2.imread(\"./deepglobe-land-cover-classification-dataset/test/83692_sat.jpg\")\n",
    "img = cv2.cvtColor(img, cv2.COLOR_BGR2RGB)\n",
    "input_tensor = transform(img)\n",
    "input_batch = input_tensor.unsqueeze(0).to(device)\n",
    "\n",
    "with torch.no_grad():\n",
    "    output = model(input_batch).squeeze()\n",
    "\n",
    "_, predicted_labels = torch.max(output, 0)\n",
    "predicted_mask = predicted_labels.squeeze().cpu().numpy()\n",
    "print(torch.unique(predicted_labels))\n",
    "\n",
    "label_map_colors = {0: [0, 255, 255],\n",
    " 1: [255, 255, 0],\n",
    " 2: [255, 0, 255],\n",
    " 3: [0, 255, 0],\n",
    " 4: [0, 0, 255],\n",
    " 5: [255, 255, 255],\n",
    " 6: [0, 0, 0]}\n",
    "\n",
    "colored_mask = np.zeros((predicted_mask.shape[0], predicted_mask.shape[1], 3), dtype=np.uint8)\n",
    "for label, color in label_map_colors.items():\n",
    "    colored_mask[predicted_mask == label] = color\n",
    "\n",
    "plt.subplot(1, 2, 1)\n",
    "plt.imshow(img)\n",
    "plt.axis('off')\n",
    "\n",
    "plt.subplot(1, 2, 2)\n",
    "plt.imshow(colored_mask)\n",
    "plt.axis('off')\n",
    "\n",
    "plt.show()"
   ]
  }
 ],
 "metadata": {
  "kernelspec": {
   "display_name": "Python 3",
   "language": "python",
   "name": "python3"
  },
  "language_info": {
   "codemirror_mode": {
    "name": "ipython",
    "version": 3
   },
   "file_extension": ".py",
   "mimetype": "text/x-python",
   "name": "python",
   "nbconvert_exporter": "python",
   "pygments_lexer": "ipython3",
   "version": "3.10.6"
  }
 },
 "nbformat": 4,
 "nbformat_minor": 2
}
